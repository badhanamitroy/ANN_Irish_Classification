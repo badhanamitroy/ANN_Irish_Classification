{
 "cells": [
  {
   "cell_type": "code",
   "execution_count": 4,
   "id": "2c42b1af",
   "metadata": {},
   "outputs": [
    {
     "name": "stdout",
     "output_type": "stream",
     "text": [
      "Dataset:\n"
     ]
    },
    {
     "data": {
      "text/html": [
       "<div>\n",
       "<style scoped>\n",
       "    .dataframe tbody tr th:only-of-type {\n",
       "        vertical-align: middle;\n",
       "    }\n",
       "\n",
       "    .dataframe tbody tr th {\n",
       "        vertical-align: top;\n",
       "    }\n",
       "\n",
       "    .dataframe thead th {\n",
       "        text-align: right;\n",
       "    }\n",
       "</style>\n",
       "<table border=\"1\" class=\"dataframe\">\n",
       "  <thead>\n",
       "    <tr style=\"text-align: right;\">\n",
       "      <th></th>\n",
       "      <th>SepalLengthCm</th>\n",
       "      <th>SepalWidthCm</th>\n",
       "      <th>PetalLengthCm</th>\n",
       "      <th>PetalWidthCm</th>\n",
       "      <th>Species</th>\n",
       "    </tr>\n",
       "  </thead>\n",
       "  <tbody>\n",
       "    <tr>\n",
       "      <th>0</th>\n",
       "      <td>5.1</td>\n",
       "      <td>3.5</td>\n",
       "      <td>1.4</td>\n",
       "      <td>0.2</td>\n",
       "      <td>Iris-setosa</td>\n",
       "    </tr>\n",
       "    <tr>\n",
       "      <th>1</th>\n",
       "      <td>4.9</td>\n",
       "      <td>3.0</td>\n",
       "      <td>1.4</td>\n",
       "      <td>0.2</td>\n",
       "      <td>Iris-setosa</td>\n",
       "    </tr>\n",
       "    <tr>\n",
       "      <th>2</th>\n",
       "      <td>4.7</td>\n",
       "      <td>3.2</td>\n",
       "      <td>1.3</td>\n",
       "      <td>0.2</td>\n",
       "      <td>Iris-setosa</td>\n",
       "    </tr>\n",
       "    <tr>\n",
       "      <th>3</th>\n",
       "      <td>4.6</td>\n",
       "      <td>3.1</td>\n",
       "      <td>1.5</td>\n",
       "      <td>0.2</td>\n",
       "      <td>Iris-setosa</td>\n",
       "    </tr>\n",
       "    <tr>\n",
       "      <th>4</th>\n",
       "      <td>5.0</td>\n",
       "      <td>3.6</td>\n",
       "      <td>1.4</td>\n",
       "      <td>0.2</td>\n",
       "      <td>Iris-setosa</td>\n",
       "    </tr>\n",
       "  </tbody>\n",
       "</table>\n",
       "</div>"
      ],
      "text/plain": [
       "   SepalLengthCm  SepalWidthCm  PetalLengthCm  PetalWidthCm      Species\n",
       "0            5.1           3.5            1.4           0.2  Iris-setosa\n",
       "1            4.9           3.0            1.4           0.2  Iris-setosa\n",
       "2            4.7           3.2            1.3           0.2  Iris-setosa\n",
       "3            4.6           3.1            1.5           0.2  Iris-setosa\n",
       "4            5.0           3.6            1.4           0.2  Iris-setosa"
      ]
     },
     "execution_count": 4,
     "metadata": {},
     "output_type": "execute_result"
    }
   ],
   "source": [
    "import pandas as pd\n",
    "\n",
    "# Load data\n",
    "df = pd.read_csv('D:/Varsity Lab Works/AI lab/Iris.csv')\n",
    "\n",
    "# Remove Id column if exists\n",
    "if 'Id' in df.columns:\n",
    "    df = df.drop('Id', axis=1)\n",
    "\n",
    "print(\"Dataset:\")\n",
    "df.head()"
   ]
  },
  {
   "cell_type": "code",
   "execution_count": 9,
   "id": "eb284234",
   "metadata": {},
   "outputs": [],
   "source": [
    "from sklearn.model_selection import train_test_split\n",
    "import numpy as np\n",
    "\n",
    "# Prepare features and target\n",
    "X = df.drop(\"Species\", axis=1)\n",
    "y = df[\"Species\"]\n",
    "\n",
    "# Train test split\n",
    "X_train, X_test, y_train, y_test = train_test_split(X, y, test_size=0.2, random_state=42)\n",
    "\n",
    "# Scale features\n",
    "scaler = StandardScaler()\n",
    "X_train_scaled = scaler.fit_transform(X_train)\n",
    "X_test_scaled = scaler.transform(X_test)\n",
    "\n",
    "# ONE-HOT ENCODE THE LABELS\n",
    "label_encoder = LabelEncoder()\n",
    "y_train_encoded = label_encoder.fit_transform(y_train)\n",
    "y_test_encoded = label_encoder.transform(y_test)\n",
    "\n",
    "def one_hot_encode(y, num_classes):\n",
    "    one_hot = np.zeros((len(y), num_classes))\n",
    "    one_hot[np.arange(len(y)), y] = 1\n",
    "    return one_hot\n",
    "\n",
    "y_train_onehot = one_hot_encode(y_train_encoded, 3)\n",
    "y_test_onehot = one_hot_encode(y_test_encoded, 3)\n"
   ]
  },
  {
   "cell_type": "code",
   "execution_count": 10,
   "id": "3b6a5b8e",
   "metadata": {},
   "outputs": [],
   "source": [
    "# Network architecture\n",
    "input_size = X_train_scaled.shape[1]\n",
    "hidden_size = 6\n",
    "output_size = 3\n",
    "learning_rate = 0.01"
   ]
  },
  {
   "cell_type": "code",
   "execution_count": 11,
   "id": "1dd7f193",
   "metadata": {},
   "outputs": [],
   "source": [
    "# Initialize weights and biases\n",
    "np.random.seed(42)\n",
    "W1 = np.random.randn(input_size, hidden_size) * 0.01\n",
    "b1 = np.zeros((1, hidden_size))\n",
    "W2 = np.random.randn(hidden_size, output_size) * 0.01\n",
    "b2 = np.zeros((1, output_size))"
   ]
  },
  {
   "cell_type": "code",
   "execution_count": 14,
   "id": "94595595",
   "metadata": {},
   "outputs": [],
   "source": [
    "# ===== ENHANCEMENT 1: Activation Functions =====\n",
    "def sigmoid(x):\n",
    "    return 1 / (1 + np.exp(-np.clip(x, -500, 500)))\n",
    "\n",
    "def sigmoid_derivative(x):\n",
    "    return x * (1 - x)\n",
    "\n",
    "activation_function = sigmoid \n",
    "activation_derivative = sigmoid_derivative\n"
   ]
  },
  {
   "cell_type": "code",
   "execution_count": 19,
   "id": "cb451acb",
   "metadata": {},
   "outputs": [],
   "source": [
    "\n",
    "# ===== ENHANCEMENT 2: Momentum Optimizer =====\n",
    "velocity_W1 = np.zeros_like(W1)\n",
    "velocity_b1 = np.zeros_like(b1)\n",
    "velocity_W2 = np.zeros_like(W2)\n",
    "velocity_b2 = np.zeros_like(b2)\n",
    "momentum = 0.9\n",
    "\n",
    "# Forward propagation\n",
    "def forward_propagation(X):\n",
    "    z1 = np.dot(X, W1) + b1\n",
    "    a1 = activation_function(z1)\n",
    "    z2 = np.dot(a1, W2) + b2\n",
    "    a2 = sigmoid(z2)\n",
    "    return z1, a1, z2, a2\n"
   ]
  },
  {
   "cell_type": "code",
   "execution_count": 20,
   "id": "ede2a1cd",
   "metadata": {},
   "outputs": [],
   "source": [
    "# ===== ENHANCEMENT 3: Backward Propagation with Momentum =====\n",
    "def backward_propagation(X, y, z1, a1, z2, a2):\n",
    "    global W1, b1, W2, b2, velocity_W1, velocity_b1, velocity_W2, velocity_b2\n",
    "    m = X.shape[0]\n",
    "    \n",
    "    dz2 = a2 - y\n",
    "    dW2 = np.dot(a1.T, dz2) / m\n",
    "    db2 = np.sum(dz2, axis=0, keepdims=True) / m\n",
    "    \n",
    "    dz1 = np.dot(dz2, W2.T) * activation_derivative(a1)\n",
    "    dW1 = np.dot(X.T, dz1) / m\n",
    "    db1 = np.sum(dz1, axis=0, keepdims=True) / m\n",
    "    \n",
    "    # Update with momentum\n",
    "    velocity_W1 = momentum * velocity_W1 - learning_rate * dW1\n",
    "    velocity_b1 = momentum * velocity_b1 - learning_rate * db1\n",
    "    velocity_W2 = momentum * velocity_W2 - learning_rate * dW2\n",
    "    velocity_b2 = momentum * velocity_b2 - learning_rate * db2\n",
    "    \n",
    "    W1 += velocity_W1\n",
    "    b1 += velocity_b1\n",
    "    W2 += velocity_W2\n",
    "    b2 += velocity_b2\n",
    "\n",
    "# Loss function\n",
    "def compute_loss(y_true, y_pred):\n",
    "    m = y_true.shape[0]\n",
    "    return -np.sum(y_true * np.log(y_pred + 1e-9)) / m\n"
   ]
  },
  {
   "cell_type": "code",
   "execution_count": 17,
   "id": "32bdf27c",
   "metadata": {},
   "outputs": [],
   "source": [
    "# ===== ENHANCEMENT 4: Compute Accuracy Function =====\n",
    "def compute_accuracy(X, y_true):\n",
    "    _, _, _, y_pred = forward_propagation(X)\n",
    "    predictions = np.argmax(y_pred, axis=1)\n",
    "    actual = np.argmax(y_true, axis=1)\n",
    "    return np.mean(predictions == actual)\n"
   ]
  },
  {
   "cell_type": "code",
   "execution_count": 21,
   "id": "a0d4606f",
   "metadata": {},
   "outputs": [
    {
     "name": "stdout",
     "output_type": "stream",
     "text": [
      "\n",
      "============================================================\n",
      "Training started...\n",
      "============================================================\n",
      "Epoch    0 | Train Loss: 0.6966 | Train Acc: 0.3417 | Test Loss: 0.6992 | Test Acc: 0.3000\n",
      "Epoch  100 | Train Loss: 1.0954 | Train Acc: 0.3417 | Test Loss: 1.0969 | Test Acc: 0.3000\n",
      "Epoch  200 | Train Loss: 1.0236 | Train Acc: 0.6167 | Test Loss: 1.0174 | Test Acc: 0.6333\n",
      "Epoch  300 | Train Loss: 0.6733 | Train Acc: 0.7833 | Test Loss: 0.6426 | Test Acc: 0.8000\n",
      "Epoch  400 | Train Loss: 0.5385 | Train Acc: 0.8250 | Test Loss: 0.5006 | Test Acc: 0.8333\n",
      "Epoch  500 | Train Loss: 0.4963 | Train Acc: 0.8750 | Test Loss: 0.4563 | Test Acc: 0.9000\n",
      "Epoch  600 | Train Loss: 0.4719 | Train Acc: 0.9083 | Test Loss: 0.4309 | Test Acc: 0.9333\n",
      "Epoch  700 | Train Loss: 0.4507 | Train Acc: 0.9167 | Test Loss: 0.4086 | Test Acc: 0.9333\n",
      "Epoch  800 | Train Loss: 0.4272 | Train Acc: 0.9167 | Test Loss: 0.3843 | Test Acc: 0.9333\n",
      "Epoch  900 | Train Loss: 0.4002 | Train Acc: 0.9250 | Test Loss: 0.3564 | Test Acc: 0.9333\n",
      "============================================================\n"
     ]
    }
   ],
   "source": [
    "# ===== ENHANCEMENT 5: Training with History Tracking =====\n",
    "epochs = 1000\n",
    "train_losses = []\n",
    "test_losses = []\n",
    "train_accuracies = []\n",
    "test_accuracies = []\n",
    "\n",
    "print(\"\\n\" + \"=\"*60)\n",
    "print(\"Training started...\")\n",
    "print(\"=\"*60)\n",
    "\n",
    "for epoch in range(epochs):\n",
    "    # Forward and backward pass\n",
    "    z1, a1, z2, a2 = forward_propagation(X_train_scaled)\n",
    "    train_loss = compute_loss(y_train_onehot, a2)\n",
    "    backward_propagation(X_train_scaled, y_train_onehot, z1, a1, z2, a2)\n",
    "    \n",
    "    # Calculate metrics\n",
    "    train_acc = compute_accuracy(X_train_scaled, y_train_onehot)\n",
    "    \n",
    "    # Test metrics\n",
    "    _, _, _, y_test_pred = forward_propagation(X_test_scaled)\n",
    "    test_loss = compute_loss(y_test_onehot, y_test_pred)\n",
    "    test_acc = compute_accuracy(X_test_scaled, y_test_onehot)\n",
    "    \n",
    "    # Store history\n",
    "    train_losses.append(train_loss)\n",
    "    test_losses.append(test_loss)\n",
    "    train_accuracies.append(train_acc)\n",
    "    test_accuracies.append(test_acc)\n",
    "    \n",
    "    if epoch % 100 == 0:\n",
    "        print(f\"Epoch {epoch:4d} | Train Loss: {train_loss:.4f} | Train Acc: {train_acc:.4f} | Test Loss: {test_loss:.4f} | Test Acc: {test_acc:.4f}\")\n",
    "\n",
    "print(\"=\"*60)\n"
   ]
  },
  {
   "cell_type": "code",
   "execution_count": 23,
   "id": "bf1c9a40",
   "metadata": {},
   "outputs": [
    {
     "name": "stdout",
     "output_type": "stream",
     "text": [
      "\n",
      "Test Accuracy: 0.9667 (96.67%)\n"
     ]
    }
   ],
   "source": [
    "from sklearn.metrics import confusion_matrix, classification_report, accuracy_score\n",
    "_, _, _, y_pred = forward_propagation(X_test_scaled)\n",
    "predictions = np.argmax(y_pred, axis=1)\n",
    "actual = np.argmax(y_test_onehot, axis=1)\n",
    "\n",
    "final_accuracy = accuracy_score(actual, predictions)\n",
    "print(f\"\\nTest Accuracy: {final_accuracy:.4f} ({final_accuracy*100:.2f}%)\")\n"
   ]
  }
 ],
 "metadata": {
  "kernelspec": {
   "display_name": "Python 3",
   "language": "python",
   "name": "python3"
  },
  "language_info": {
   "codemirror_mode": {
    "name": "ipython",
    "version": 3
   },
   "file_extension": ".py",
   "mimetype": "text/x-python",
   "name": "python",
   "nbconvert_exporter": "python",
   "pygments_lexer": "ipython3",
   "version": "3.12.10"
  }
 },
 "nbformat": 4,
 "nbformat_minor": 5
}
